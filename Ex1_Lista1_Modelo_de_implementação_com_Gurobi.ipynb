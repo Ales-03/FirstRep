{
  "nbformat": 4,
  "nbformat_minor": 0,
  "metadata": {
    "colab": {
      "provenance": [],
      "include_colab_link": true
    },
    "kernelspec": {
      "name": "python3",
      "display_name": "Python 3"
    },
    "language_info": {
      "name": "python"
    }
  },
  "cells": [
    {
      "cell_type": "markdown",
      "metadata": {
        "id": "view-in-github",
        "colab_type": "text"
      },
      "source": [
        "<a href=\"https://colab.research.google.com/github/Ales-03/FirstRep/blob/main/Ex1_Lista1_Modelo_de_implementa%C3%A7%C3%A3o_com_Gurobi.ipynb\" target=\"_parent\"><img src=\"https://colab.research.google.com/assets/colab-badge.svg\" alt=\"Open In Colab\"/></a>"
      ]
    },
    {
      "cell_type": "code",
      "execution_count": null,
      "metadata": {
        "id": "1OPQXKBR0BlW",
        "colab": {
          "base_uri": "https://localhost:8080/"
        },
        "outputId": "e3feffaf-5985-4876-f6f9-682c49111253"
      },
      "outputs": [
        {
          "output_type": "stream",
          "name": "stdout",
          "text": [
            "Collecting gurobipy\n",
            "  Downloading gurobipy-10.0.3-cp310-cp310-manylinux2014_x86_64.whl (12.7 MB)\n",
            "\u001b[2K     \u001b[90m━━━━━━━━━━━━━━━━━━━━━━━━━━━━━━━━━━━━━━━━\u001b[0m \u001b[32m12.7/12.7 MB\u001b[0m \u001b[31m68.2 MB/s\u001b[0m eta \u001b[36m0:00:00\u001b[0m\n",
            "\u001b[?25hInstalling collected packages: gurobipy\n",
            "Successfully installed gurobipy-10.0.3\n"
          ]
        }
      ],
      "source": [
        "# Instalando a biblioteca gurobipy (métodos para implementação de modelos + solver Gurobi)\n",
        "!pip install gurobipy"
      ]
    },
    {
      "cell_type": "code",
      "source": [
        "import gurobipy as gp # Importando a biblioteca gurobipy\n",
        "\n",
        "#################################################################\n",
        "# Dados de entrada (parâmetros)\n",
        "P = [10,25,20] #preço de venda de cada produto\n",
        "C = [6,15, 14] #custo de cada produto\n",
        "L = [1000, 0, 100] #limite inferior de produção\n",
        "U = [6000, 500, 1000] #limite superior de produção\n",
        "D = [400, 400, 500, 2000] #disponibilidade de recursos\n",
        "Q = [[0.03, 0.15, 0.1],\n",
        "     [0.06, 0.12, 0.1],\n",
        "     [0.05, 0.1, 0.12],\n",
        "     [0, 2, 1.2]] #quantidade consumida de cada recurso em cada produto\n",
        "\n",
        "n = len(P) #número de produtos\n",
        "m = len(D) #número de recursos\n",
        "\n",
        "#################################################################\n",
        "# Cria um modelo de otimização do Gurobi chamado \"modelo\"\n",
        "modelo = gp.Model()\n",
        "\n",
        "################################################################\n",
        "# Variáveis de decisão (criação das variáveis do modelo)\n",
        "\n",
        "x = modelo.addVars(n, lb = L, ub = U, vtype = gp.GRB.INTEGER) #Cria n variáveis inteiras\n",
        "\n",
        "'''\n",
        "# Conjunto de variáveis\n",
        "nome_da_variável = nome_do_modelo.addVars()\n",
        "\n",
        "# Uma única variável\n",
        "nome_da_variável = nome_do_modelo.addVar()'''\n",
        "\n",
        "################################################################\n",
        "# Função objetivo\n",
        "\n",
        "modelo.setObjective(sum((P[i] - C[i]) * x[i]for i in range(n)), sense = gp.GRB.MAXIMIZE)\n",
        "\n",
        "################################################################\n",
        "# Restrições\n",
        "# Conjunto de restrições\n",
        "modelo.addConstrs(\n",
        " sum(Q[j][i] * x[i] for i in range(n)) <= D[j]\n",
        " for j in range(m)\n",
        ")\n",
        "\n",
        "\n",
        "###############################################################\n",
        "# Suprimir console output\n",
        "\n",
        "modelo.setParam(\"OutputFlag\", 0)\n",
        "\n",
        "###############################################################\n",
        "# Resolvendo o modelo\n",
        "\n",
        "modelo.optimize()\n",
        "\n",
        "###############################################################\n",
        "# Verificar status da solução\n",
        "print('Valor ótimo = {}'. format(modelo.objVal))\n",
        "\n",
        "for i in range(n):\n",
        "  print(\"x[{}] = {:.0f}\" .format(i + 1, x[i].x))\n",
        "\n",
        "\n",
        "#Consumo dos recursos\n",
        "\n",
        "for j in range(m):\n",
        "  quant_R = sum(Q[j][i] * x[i].x for i in range(n))\n",
        "  print('Quantidade utilizada do recurso {}: {}' .format(j+1, quant_R))\n",
        "\n",
        "'''\n",
        "status = nome_do_modelo.Status\n",
        "print(\"Status = \", status)\n",
        "\n",
        "if status == gp.GRB.OPTIMAL:\n",
        "  # Apresentando a solução se a solução ótima foi encontrada\n",
        "  # Valor ótimo\n",
        "  print(\"Valor ótimo = {}\".format(nome_do_modelo.objVal))\n",
        "\n",
        "  # Para obter o valor de uma variável de decisão após a otimização utilize: nome_da_variável.x\n",
        "else:\n",
        "  # Caso o status da otimização não seja de solução ótima encontrada\n",
        "  print(\"Problema não resolvido\") '''\n"
      ],
      "metadata": {
        "id": "CBhE6oZU0OQn",
        "colab": {
          "base_uri": "https://localhost:8080/",
          "height": 226
        },
        "outputId": "0e2793cd-ffce-4798-8f63-3dc4ae52ea19"
      },
      "execution_count": null,
      "outputs": [
        {
          "output_type": "stream",
          "name": "stdout",
          "text": [
            "Restricted license - for non-production use only - expires 2024-10-28\n",
            "Valor ótimo = 27600.0\n",
            "x[1] = 5500\n",
            "x[2] = 500\n",
            "x[3] = 100\n",
            "Quantidade utilizada do recurso 1: 250.0\n",
            "Quantidade utilizada do recurso 2: 400.0\n",
            "Quantidade utilizada do recurso 3: 337.0\n",
            "Quantidade utilizada do recurso 4: 1120.0\n"
          ]
        },
        {
          "output_type": "execute_result",
          "data": {
            "text/plain": [
              "'\\nstatus = nome_do_modelo.Status\\nprint(\"Status = \", status)\\n\\nif status == gp.GRB.OPTIMAL:\\n  # Apresentando a solução se a solução ótima foi encontrada\\n  # Valor ótimo\\n  print(\"Valor ótimo = {}\".format(nome_do_modelo.objVal))\\n\\n  # Para obter o valor de uma variável de decisão após a otimização utilize: nome_da_variável.x\\nelse:\\n  # Caso o status da otimização não seja de solução ótima encontrada\\n  print(\"Problema não resolvido\") '"
            ],
            "application/vnd.google.colaboratory.intrinsic+json": {
              "type": "string"
            }
          },
          "metadata": {},
          "execution_count": 4
        }
      ]
    }
  ]
}